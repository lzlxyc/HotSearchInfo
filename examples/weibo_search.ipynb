{
 "cells": [
  {
   "cell_type": "code",
   "id": "initial_id",
   "metadata": {
    "collapsed": true,
    "ExecuteTime": {
     "end_time": "2025-09-13T03:56:03.333290Z",
     "start_time": "2025-09-13T03:56:03.322600Z"
    }
   },
   "source": [
    "import requests\n",
    "import pandas as pd\n",
    "from datetime import datetime\n",
    "import time\n",
    "import json\n",
    "\n",
    "def fetch_weibo_hotsearch_api():\n",
    "    \"\"\"\n",
    "    通过微博API接口获取热搜数据\n",
    "    返回DataFrame格式的热搜数据\n",
    "    \"\"\"\n",
    "    url = 'https://weibo.com/ajax/side/hotSearch'\n",
    "\n",
    "    headers = {\n",
    "        'User-Agent': 'Mozilla/5.0 (Windows NT 10.0; Win64; x64) AppleWebKit/537.36 (KHTML, like Gecko) Chrome/91.0.4472.124 Safari/537.36'\n",
    "    }\n",
    "\n",
    "    try:\n",
    "        response = requests.get(url, headers=headers, timeout=10)\n",
    "        if response.status_code != 200:\n",
    "            print(f\"请求失败，状态码：{response.status_code}\")\n",
    "            return None\n",
    "\n",
    "        return response.json()\n",
    "\n",
    "    except Exception as e:\n",
    "        print(f\"获取数据时出错：{e}\")\n",
    "        return None\n",
    "\n",
    "def hotseach_info_process()\n",
    "        # 提取热搜数据\n",
    "        hot_list = []\n",
    "        # 处理置顶热搜\n",
    "        if 'hotgov' in data and data['hotgov']:\n",
    "            hotgov = data['hotgov']\n",
    "            hot_list.append({\n",
    "                'rank': 0,\n",
    "                'title': hotgov['word'].strip('#'),\n",
    "                'url': f\"https://s.weibo.com/weibo?q={hotgov['word']}\",\n",
    "                'hot_value': hotgov.get('raw_hot', 0),\n",
    "                'label': '置顶',\n",
    "                'is_ad': False\n",
    "            })\n",
    "\n",
    "        # 处理普通热搜\n",
    "        if 'realtime' in data:\n",
    "            for i, item in enumerate(data['realtime']):\n",
    "                hot_list.append({\n",
    "                    'rank': i + 1,\n",
    "                    'title': item['word'],\n",
    "                    'url': f\"https://s.weibo.com/weibo?q={item['word']}\",\n",
    "                    'hot_value': item.get('raw_hot', 0),\n",
    "                    'label': item.get('label_name', ''),\n",
    "                    'is_ad': 'is_ad' in item and item['is_ad'] == 1\n",
    "                })\n",
    "\n",
    "        # 转换为DataFrame\n",
    "        df = pd.DataFrame(hot_list)\n",
    "\n",
    "        # 添加时间戳\n",
    "        df['crawl_time'] = datetime.now().strftime('%Y-%m-%d %H:%M:%S')\n",
    "\n",
    "        return df\n",
    "\n",
    "\n",
    "\n",
    "# 使用示例\n",
    "hotsearch_df = fetch_weibo_hotsearch_api()\n",
    "\n",
    "if hotsearch_df is not None:\n",
    "    print(f\"成功获取{len(hotsearch_df)}条热搜数据\")\n",
    "    print(hotsearch_df.head(10))\n",
    "\n",
    "    # 保存到CSV文件\n",
    "    filename = f\"weibo_hotsearch_{datetime.now().strftime('%Y%m%d_%H%M%S')}.csv\"\n",
    "    hotsearch_df.to_csv(filename, index=False, encoding='utf-8-sig')\n",
    "    print(f\"数据已保存到：{filename}\")\n",
    "else:\n",
    "    print(\"获取热搜数据失败\")"
   ],
   "outputs": [],
   "execution_count": null
  },
  {
   "metadata": {
    "ExecuteTime": {
     "end_time": "2025-09-13T03:56:03.349242Z",
     "start_time": "2025-09-13T03:56:03.341779Z"
    }
   },
   "cell_type": "code",
   "source": "",
   "id": "d181803cde87c032",
   "outputs": [],
   "execution_count": null
  },
  {
   "metadata": {
    "ExecuteTime": {
     "end_time": "2025-09-13T03:56:03.553370Z",
     "start_time": "2025-09-13T03:56:03.537635Z"
    }
   },
   "cell_type": "code",
   "source": "",
   "id": "87f5079a7d168590",
   "outputs": [],
   "execution_count": null
  },
  {
   "metadata": {
    "ExecuteTime": {
     "end_time": "2025-09-13T03:56:03.608333Z",
     "start_time": "2025-09-13T03:56:03.592587Z"
    }
   },
   "cell_type": "code",
   "source": "",
   "id": "ad28cad2bbbb42e8",
   "outputs": [],
   "execution_count": null
  },
  {
   "metadata": {
    "ExecuteTime": {
     "end_time": "2025-09-13T03:56:03.624172Z",
     "start_time": "2025-09-13T03:56:03.609137Z"
    }
   },
   "cell_type": "code",
   "source": "",
   "id": "865770f388d5c1f9",
   "outputs": [],
   "execution_count": null
  },
  {
   "metadata": {
    "ExecuteTime": {
     "end_time": "2025-09-13T03:56:03.655948Z",
     "start_time": "2025-09-13T03:56:03.640050Z"
    }
   },
   "cell_type": "code",
   "source": "",
   "id": "563b080146c8b13c",
   "outputs": [],
   "execution_count": null
  },
  {
   "metadata": {
    "ExecuteTime": {
     "end_time": "2025-09-13T03:56:03.688005Z",
     "start_time": "2025-09-13T03:56:03.671910Z"
    }
   },
   "cell_type": "code",
   "source": "",
   "id": "4ddb8a4321c9e2e4",
   "outputs": [],
   "execution_count": null
  },
  {
   "metadata": {
    "ExecuteTime": {
     "end_time": "2025-09-13T03:56:03.719232Z",
     "start_time": "2025-09-13T03:56:03.704514Z"
    }
   },
   "cell_type": "code",
   "source": "",
   "id": "3fe44754ab9928e3",
   "outputs": [],
   "execution_count": null
  },
  {
   "metadata": {
    "ExecuteTime": {
     "end_time": "2025-09-13T03:56:03.750085Z",
     "start_time": "2025-09-13T03:56:03.734426Z"
    }
   },
   "cell_type": "code",
   "source": "",
   "id": "9cae14dfca14183c",
   "outputs": [],
   "execution_count": null
  },
  {
   "metadata": {
    "ExecuteTime": {
     "end_time": "2025-09-13T03:56:03.782252Z",
     "start_time": "2025-09-13T03:56:03.766201Z"
    }
   },
   "cell_type": "code",
   "source": "",
   "id": "a0e0a517b3836ebc",
   "outputs": [],
   "execution_count": null
  },
  {
   "metadata": {
    "ExecuteTime": {
     "end_time": "2025-09-13T03:56:03.809292Z",
     "start_time": "2025-09-13T03:56:03.794584Z"
    }
   },
   "cell_type": "code",
   "source": "",
   "id": "8257b787f5fd0f6e",
   "outputs": [],
   "execution_count": null
  },
  {
   "metadata": {},
   "cell_type": "code",
   "outputs": [],
   "execution_count": null,
   "source": "",
   "id": "69271a3c38981d4e"
  }
 ],
 "metadata": {
  "kernelspec": {
   "display_name": "Python 3",
   "language": "python",
   "name": "python3"
  },
  "language_info": {
   "codemirror_mode": {
    "name": "ipython",
    "version": 2
   },
   "file_extension": ".py",
   "mimetype": "text/x-python",
   "name": "python",
   "nbconvert_exporter": "python",
   "pygments_lexer": "ipython2",
   "version": "2.7.6"
  }
 },
 "nbformat": 4,
 "nbformat_minor": 5
}
